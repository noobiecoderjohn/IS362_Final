{
 "cells": [
  {
   "cell_type": "code",
   "execution_count": null,
   "id": "f5109c1f",
   "metadata": {},
   "outputs": [],
   "source": [
    "import sqlite3\n",
    "import pandas as pd\n",
    "\n",
    "# Connect to the SQLite database\n",
    "conn = sqlite3.connect('grades.csv')\n",
    "\n",
    "# Query to retrieve grades from the database\n",
    "query = \"SELECT * FROM Grades;\"\n",
    "\n",
    "# Execute the query and fetch the results\n",
    "grades_data = pd.read_sql_query(query, conn)\n",
    "\n",
    "# Close the database connection\n",
    "conn.close()\n",
    "\n",
    "# Calculate average, median, and mean for each class\n",
    "class_stats = {}\n",
    "for subject in ['Math', 'English', 'Science', 'History', 'Spanish']:\n",
    "    subject_grades = grades_data[grades_data['class'] == subject]\n",
    "    avg_grade = subject_grades.mean()\n",
    "    median_grade = subject_grades.median()\n",
    "    max_grade = subject_grades.max()\n",
    "    min_grade = subject_grades.min()\n",
    "    class_stats[subject] = {'average': avg_grade, 'median': median_grade, 'max': max_grade, 'min': min_grade}\n",
    "\n",
    "# Print the statistics for each class\n",
    "for subject, stats in class_stats.items():\n",
    "    print(f\"Statistics for {subject}:\")\n",
    "    print(f\"Average grade: {stats['average']}\")\n",
    "    print(f\"Median grade: {stats['median']}\")\n",
    "    print(f\"Maximum grade: {stats['max']}\")\n",
    "    print(f\"Minimum grade: {stats['min']}\")\n",
    "    print()\n"
   ]
  }
 ],
 "metadata": {
  "kernelspec": {
   "display_name": "Python 3",
   "language": "python",
   "name": "python3"
  },
  "language_info": {
   "codemirror_mode": {
    "name": "ipython",
    "version": 3
   },
   "file_extension": ".py",
   "mimetype": "text/x-python",
   "name": "python",
   "nbconvert_exporter": "python",
   "pygments_lexer": "ipython3",
   "version": "3.8.10"
  }
 },
 "nbformat": 4,
 "nbformat_minor": 5
}
